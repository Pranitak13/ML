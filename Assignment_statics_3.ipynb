{
 "cells": [
  {
   "cell_type": "raw",
   "metadata": {},
   "source": [
    "Assignment_Stat_3:"
   ]
  },
  {
   "cell_type": "raw",
   "metadata": {},
   "source": [
    "Problem Statement 1:\n",
    "Blood glucose levels for obese patients have a mean of 100 with a standard deviation of\n",
    "15. A researcher thinks that a diet high in raw cornstarch will have a positive effect on\n",
    "blood glucose levels. A sample of 36 patients who have tried the raw cornstarch diet\n",
    "have a mean glucose level of 108. Test the hypothesis that the raw cornstarch had an\n",
    "effect or not."
   ]
  },
  {
   "cell_type": "code",
   "execution_count": 1,
   "metadata": {},
   "outputs": [
    {
     "name": "stdout",
     "output_type": "stream",
     "text": [
      "mu:  100 , sigma: 15\n",
      "\n",
      "Z_critical: 1.959963984540054\n",
      "\n",
      "z_stat: 3.2\n",
      "\n",
      "Which implies the probability of having value less than 108 is: 0.9993128620620841\n",
      "\n",
      "And probability of having value more than or equals to 108 is: 0.0006871379379158604\n",
      "\n",
      "It is less than 0.05 so we will reject the Null hypothesis i.e. there is raw cornstarch effect\n"
     ]
    },
    {
     "name": "stderr",
     "output_type": "stream",
     "text": [
      "C:\\Users\\Pranita Kothawade\\Anaconda3\\lib\\site-packages\\statsmodels\\tools\\_testing.py:19: FutureWarning: pandas.util.testing is deprecated. Use the functions in the public API at pandas.testing instead.\n",
      "  import pandas.util.testing as tm\n"
     ]
    }
   ],
   "source": [
    "import numpy as np\n",
    "import pandas as pd\n",
    "import matplotlib.pyplot as plt\n",
    "import seaborn as sns\n",
    "import scipy.stats as stats\n",
    "\n",
    "\n",
    "mu = 100\n",
    "sigma = 15\n",
    "print(\"mu: \", mu, \", sigma:\", sigma)\n",
    "\n",
    "# alpha level of 0.05 and two-tailed test significance level\n",
    "z_critical = stats.norm.ppf( (1-0.025))\n",
    "print(\"\\nZ_critical:\",z_critical)\n",
    "\n",
    "\n",
    "\n",
    "x_bar = 108.\n",
    "N = 36\n",
    "SE = sigma/np.sqrt(N)\n",
    "z_stat = (x_bar - mu)/SE\n",
    "print(\"\\nz_stat:\",z_stat)\n",
    "\n",
    "#You can look at the probability by looking at z- table and p-value associated with 3.20 is 0.9993\n",
    "#i.e. probability of having a value less than 108 in 0.9993 and more than or equals to 108 is (1–0.9993)=0.0007.\n",
    "print(\"\\nWhich implies the probability of having value less than 108 is:\",stats.norm.cdf(z_stat))\n",
    "print(\"\\nAnd probability of having value more than or equals to 108 is:\",1-stats.norm.cdf(z_stat))\n",
    "print('\\nIt is less than 0.05 so we will reject the Null hypothesis i.e. there is raw cornstarch effect')\n"
   ]
  },
  {
   "cell_type": "code",
   "execution_count": null,
   "metadata": {},
   "outputs": [],
   "source": []
  },
  {
   "cell_type": "raw",
   "metadata": {},
   "source": [
    "Problem Statement 2:\n",
    "In one state, 52% of the voters are Republicans, and 48% are Democrats. In a second\n",
    "state, 47% of the voters are Republicans, and 53% are Democrats. Suppose a simple\n",
    "random sample of 100 voters are surveyed from each state.\n",
    "What is the probability that the survey will show a greater percentage of Republican\n",
    "voters in the second state than in the first state?"
   ]
  },
  {
   "cell_type": "code",
   "execution_count": 2,
   "metadata": {},
   "outputs": [
    {
     "name": "stdout",
     "output_type": "stream",
     "text": [
      "Mu :  0.050000000000000044 Std :  0.07061869440877536\n",
      "Z_score(p1,p2) :  -0.7080278164104213\n"
     ]
    }
   ],
   "source": [
    "import math\n",
    "#let :-\n",
    "#P1 = the proportion of Republican voters in the first state\n",
    "#P2 = the proportion of Republican voters in the second state\n",
    "#p1 = the proportion of Republican voters in the sample from the first state\n",
    "#p2 = the proportion of Republican voters in the sample from the second state. \n",
    "\n",
    "#The number of voters sampled from the first state (n1) = 100\n",
    "n1 = 100\n",
    "#The number of voters sampled from the second state (n2) = 100.\n",
    "n2 = 100\n",
    "\n",
    "P1 = 0.52\n",
    "#(1 - P1) = Q1\n",
    "Q1 = 0.48\n",
    "P2 = 0.47\n",
    "#(1 - P2) = Q2\n",
    "Q2 = 0.53\n",
    "\n",
    "\n",
    "#The mean of the difference in sample proportions .i.e Expected Value E[p1 -p2] = P1 - P2 = mu\n",
    "mu =  P1 - P2\n",
    "\n",
    "#The standard deviation of the difference (std)\n",
    "std = math.sqrt(((P1 * Q1 ) / n1) + ((P2 * Q2) /n2))\n",
    "print(\"Mu : \",mu,\"Std : \",std)\n",
    "\n",
    "#This problem requires us to find the probability that p1 is less than p2. \n",
    "#This is equivalent to finding the probability that p1 - p2 < 0. \n",
    "x = 0\n",
    "#To find this probability, we need to transform the random variable (p1 - p2) into a z-score. \n",
    "#That transformation appears below.\n",
    "Z_p1_p2 = ( x - mu)/std\n",
    "\n",
    "print(\"Z_score(p1,p2) : \",Z_p1_p2)\n",
    "#From Z table we find that the probability of a z-score being -0.7082 or less is 0.24.\n",
    "\n",
    "#Therefore, the probability that the survey will show a greater percentage of Republican voters \n",
    "#in the second state than in the first state is 0.24."
   ]
  },
  {
   "cell_type": "code",
   "execution_count": null,
   "metadata": {},
   "outputs": [],
   "source": []
  },
  {
   "cell_type": "raw",
   "metadata": {},
   "source": [
    "Problem Statement 3:\n",
    "You take the SAT and score 1100. The mean score for the SAT is 1026 and the standard\n",
    "deviation is 209. How well did you score on the test compared to the average test taker?"
   ]
  },
  {
   "cell_type": "code",
   "execution_count": 4,
   "metadata": {},
   "outputs": [
    {
     "name": "stdout",
     "output_type": "stream",
     "text": [
      "zscore: 0.35406698564593303\n",
      "\n",
      "Percentage of test-takers scored below you: 63.835565843531896 %\n",
      "\n",
      "Percentage of test-takers scored above you: 36.164434156468104 %\n"
     ]
    }
   ],
   "source": [
    "import scipy.stats as st\n",
    "\n",
    "meanscore = 1026\n",
    "std_dev = 209\n",
    "zscore = ( 1100 - meanscore ) / std_dev\n",
    "print(\"zscore:\",zscore)\n",
    "\n",
    "prob = st.norm.cdf(zscore)\n",
    "print(\"\\nPercentage of test-takers scored below you:\",prob*100,\"%\")\n",
    "\n",
    "prob1 = 1-st.norm.cdf(zscore)\n",
    "print(\"\\nPercentage of test-takers scored above you:\",prob1*100,\"%\")\n",
    "\n"
   ]
  },
  {
   "cell_type": "code",
   "execution_count": null,
   "metadata": {},
   "outputs": [],
   "source": []
  }
 ],
 "metadata": {
  "kernelspec": {
   "display_name": "Python 3",
   "language": "python",
   "name": "python3"
  },
  "language_info": {
   "codemirror_mode": {
    "name": "ipython",
    "version": 3
   },
   "file_extension": ".py",
   "mimetype": "text/x-python",
   "name": "python",
   "nbconvert_exporter": "python",
   "pygments_lexer": "ipython3",
   "version": "3.7.4"
  }
 },
 "nbformat": 4,
 "nbformat_minor": 2
}
