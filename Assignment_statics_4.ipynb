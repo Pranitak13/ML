{
 "cells": [
  {
   "cell_type": "raw",
   "metadata": {},
   "source": [
    "Assinment_statics_4"
   ]
  },
  {
   "cell_type": "raw",
   "metadata": {},
   "source": [
    "Problem Statement 1:\n",
    "Is gender independent of education level? A random sample of 395 people were\n",
    "surveyed and each person was asked to report the highest education level they\n",
    "obtained. The data that resulted from the survey is summarized in the following table:\n",
    "High School Bachelors Masters Ph.d. Total\n",
    "Female 60 54 46 41 201\n",
    "Male 40 44 53 57 194\n",
    "Total 100 98 99 98 395\n",
    "Question: Are gender and education level dependent at 5% level of significance? In\n",
    "other words, given the data collected above, is there a relationship between the\n",
    "gender of an individual and the level of education that they have obtained? "
   ]
  },
  {
   "cell_type": "code",
   "execution_count": 1,
   "metadata": {},
   "outputs": [
    {
     "name": "stdout",
     "output_type": "stream",
     "text": [
      "===Chi2 Stat===\n",
      "8.006066246262538\n",
      "\n",
      "\n",
      "===Degrees of Freedom===\n",
      "8\n",
      "\n",
      "\n",
      "===P-Value===\n",
      "0.43287777354287077\n",
      "\n",
      "\n",
      "===Contingency Table===\n",
      "[[ 50.88607595  49.86835443  50.37721519  49.86835443 201.        ]\n",
      " [ 49.11392405  48.13164557  48.62278481  48.13164557 194.        ]\n",
      " [100.          98.          99.          98.         395.        ]]\n"
     ]
    }
   ],
   "source": [
    "import numpy as np\n",
    "from scipy import stats\n",
    "\n",
    "\n",
    "Female = [60, 54, 46, 41, 201]\n",
    "Male = [40, 44, 53, 57, 194]\n",
    "Total = [100 ,98, 99, 98, 395]\n",
    "\n",
    "education_level = np.array([Female , Male , Total])\n",
    "\n",
    "\n",
    "chi2_stat, p_val, dof, ex = stats.chi2_contingency(education_level)\n",
    "print(\"===Chi2 Stat===\")\n",
    "print(chi2_stat)\n",
    "print(\"\\n\")\n",
    "print(\"===Degrees of Freedom===\")\n",
    "print(dof)\n",
    "print(\"\\n\")\n",
    "print(\"===P-Value===\")\n",
    "print(p_val)\n",
    "print(\"\\n\")\n",
    "print(\"===Contingency Table===\")\n",
    "print(ex)"
   ]
  },
  {
   "cell_type": "code",
   "execution_count": null,
   "metadata": {},
   "outputs": [],
   "source": []
  },
  {
   "cell_type": "raw",
   "metadata": {},
   "source": [
    "Problem Statement 2:\n",
    "Using the following data, perform a oneway analysis of variance using α=.05. Write\n",
    "up the results in APA format.\n",
    "[Group1: 51, 45, 33, 45, 67]\n",
    "[Group2: 23, 43, 23, 43, 45]\n",
    "[Group3: 56, 76, 74, 87, 56]"
   ]
  },
  {
   "cell_type": "code",
   "execution_count": 2,
   "metadata": {},
   "outputs": [
    {
     "name": "stdout",
     "output_type": "stream",
     "text": [
      "Statics: 9.747205503009463\n",
      "\n",
      "pvalue: 0.0030597541434430556\n",
      "\n",
      "True\n",
      "\n",
      "The test result suggests the groups have different same sample means in this example, Here the p-value returned is 0.00305 which is < 0.05\n"
     ]
    }
   ],
   "source": [
    "from scipy.stats import f_oneway\n",
    "\n",
    "\n",
    "Group1 = [51, 45, 33, 45, 67]\n",
    "Group2= [23, 43, 23, 43, 45]\n",
    "Group3= [56, 76, 74, 87, 56]\n",
    "\n",
    "statistic, pvalue = f_oneway(Group1,Group2,Group3)\n",
    "\n",
    "print(\"Statics:\",statistic)\n",
    "print(\"\\npvalue:\",pvalue)\n",
    "if pvalue < 0.05: \n",
    "    print('\\nTrue')\n",
    "else: \n",
    "    print('\\nFalse') \n",
    "print(\"\\nThe test result suggests the groups have different same sample means in this example, Here the p-value returned is 0.00305 which is < 0.05\")\n",
    "#print(F)\n",
    "#print(p)\n"
   ]
  },
  {
   "cell_type": "code",
   "execution_count": null,
   "metadata": {},
   "outputs": [],
   "source": []
  },
  {
   "cell_type": "raw",
   "metadata": {},
   "source": [
    "Problem Statement 3:\n",
    "Calculate F Test for given 10, 20, 30, 40, 50 and 5,10,15, 20, 25.\n",
    "For 10, 20, 30, 40, 50:"
   ]
  },
  {
   "cell_type": "code",
   "execution_count": 3,
   "metadata": {},
   "outputs": [
    {
     "name": "stdout",
     "output_type": "stream",
     "text": [
      "F Test for given 10, 20, 30, 40, 50 and 5,10,15, 20, 25 is :  F_onewayResult(statistic=3.6, pvalue=0.0943497728424377)\n"
     ]
    }
   ],
   "source": [
    "from scipy.stats import f_oneway\n",
    "\n",
    "Group1 = [10, 20, 30, 40, 50] \n",
    "Group2 = [5,10,15, 20, 25]\n",
    "\n",
    "F_Test=stats.f_oneway(Group1,Group2)\n",
    "print(\"F Test for given 10, 20, 30, 40, 50 and 5,10,15, 20, 25 is : \",F_Test)"
   ]
  },
  {
   "cell_type": "code",
   "execution_count": null,
   "metadata": {},
   "outputs": [],
   "source": []
  }
 ],
 "metadata": {
  "kernelspec": {
   "display_name": "Python 3",
   "language": "python",
   "name": "python3"
  },
  "language_info": {
   "codemirror_mode": {
    "name": "ipython",
    "version": 3
   },
   "file_extension": ".py",
   "mimetype": "text/x-python",
   "name": "python",
   "nbconvert_exporter": "python",
   "pygments_lexer": "ipython3",
   "version": "3.7.4"
  }
 },
 "nbformat": 4,
 "nbformat_minor": 2
}
