{
 "cells": [
  {
   "cell_type": "markdown",
   "metadata": {},
   "source": [
    "# Python Assignment-4"
   ]
  },
  {
   "cell_type": "markdown",
   "metadata": {},
   "source": [
    "#1.1 Write a Python Program(with class concepts) to find the area of the triangle using the below formula.\n",
    "\n",
    "area = (s(s-a)(s-b)(s-c)) * 0.5\n",
    "\n",
    "Function to take the length of the sides of triangle from user should be defined in the parent class and function to calculate the area should be defined in subclass."
   ]
  },
  {
   "cell_type": "code",
   "execution_count": 3,
   "metadata": {},
   "outputs": [
    {
     "name": "stdout",
     "output_type": "stream",
     "text": [
      "Enter length of fst_side side of a triangle2\n",
      "Enter length of snd_side side of a triangle3\n",
      "Enter length of trd_side side of a triangle4\n",
      "2.9047375096555625\n"
     ]
    }
   ],
   "source": [
    "\n",
    "class SidesOfTriangle:\n",
    "    def getSideOfTriangle(self):\n",
    "        valuesofsides = [\"fst_side\", \"snd_side\", \"trd_side\"]\n",
    "        sides = []\n",
    "        for index in valuesofsides :\n",
    "            in_Value = input(\"Enter length of {} side of a triangle\".format(index))\n",
    "            sides.append((in_Value))\n",
    "        return sides\n",
    "\n",
    "class AreaOfTriangle(SidesOfTriangle):\n",
    "    def getAreaOfTriangle(self, side_length):\n",
    "        a = int(side_length[0])\n",
    "        b = int(side_length[1])\n",
    "        c = int(side_length[2])\n",
    "        \n",
    "        s = (a + b + c)/2\n",
    "        \n",
    "        area_Triangle = (s*(s-a)*(s-b)*(s-c)) ** 0.5\n",
    "        print(area_Triangle)\n",
    "        \n",
    "areaclass = AreaOfTriangle()\n",
    "side_length = areaclass.getSideOfTriangle()\n",
    "areaclass.getAreaOfTriangle(side_length)\n"
   ]
  },
  {
   "cell_type": "code",
   "execution_count": 8,
   "metadata": {},
   "outputs": [],
   "source": []
  },
  {
   "cell_type": "markdown",
   "metadata": {},
   "source": [
    "#1.2 Write a function filter_long_words() that takes a list of words and an integer n and returns the list of words that are longer than n."
   ]
  },
  {
   "cell_type": "code",
   "execution_count": 41,
   "metadata": {},
   "outputs": [
    {
     "name": "stdout",
     "output_type": "stream",
     "text": [
      "['rftg', 'rhnuj', 'ujisksols']\n"
     ]
    }
   ],
   "source": [
    "\n",
    "\n",
    "def filt_long_word(worldlst,in_int):\n",
    "    maxlenword=[]\n",
    "    for i in worldlst:\n",
    "        if len(i)>in_int:\n",
    "            maxlenword.append(i)\n",
    "    print(maxlenword)\n",
    "    \n",
    "filt_long_word(['wed','oi','p','rftg','rhnuj','ujisksols','rf'],3)\n",
    "    "
   ]
  },
  {
   "cell_type": "code",
   "execution_count": null,
   "metadata": {},
   "outputs": [],
   "source": []
  },
  {
   "cell_type": "markdown",
   "metadata": {},
   "source": [
    "#2.1 Write a Python program using function concept that maps list of words into a list of integers representing the lengths of the corresponding words.\n",
    "\n",
    "Hint: If a list [ ab,cde,erty] is passed on to the python function output should come as [2,3,4]\n",
    "\n",
    "Here 2,3 and 4 are the lengths of the words in the list."
   ]
  },
  {
   "cell_type": "code",
   "execution_count": 39,
   "metadata": {},
   "outputs": [
    {
     "data": {
      "text/plain": [
       "[3, 4, 6, 3]"
      ]
     },
     "execution_count": 39,
     "metadata": {},
     "output_type": "execute_result"
    }
   ],
   "source": [
    "\n",
    "\n",
    "lst=['jnd','olki','hnjuki','plo']\n",
    "list(map(lambda x:len(x),lst))"
   ]
  },
  {
   "cell_type": "code",
   "execution_count": null,
   "metadata": {},
   "outputs": [],
   "source": []
  },
  {
   "cell_type": "markdown",
   "metadata": {},
   "source": [
    "#2.2 Write a Python function which takes a character (i.e. a string of length 1) and returns True if it is a vowel, False otherwise."
   ]
  },
  {
   "cell_type": "code",
   "execution_count": 12,
   "metadata": {},
   "outputs": [
    {
     "name": "stdout",
     "output_type": "stream",
     "text": [
      "False\n",
      "True\n",
      "False\n",
      "True\n"
     ]
    }
   ],
   "source": [
    "\n",
    "\n",
    "def chk_vowel(letter):\n",
    "    if letter.upper() in ('A', 'E', 'I', 'O', 'U')  or letter.lower() in ('a', 'e', 'i', 'o', 'u'):\n",
    "        return True\n",
    "    else:\n",
    "        return False\n",
    "    \n",
    "print(chk_vowel('L'))\n",
    "print(chk_vowel('i'))\n",
    "print(chk_vowel('g'))\n",
    "print(chk_vowel('A'))\n"
   ]
  },
  {
   "cell_type": "code",
   "execution_count": null,
   "metadata": {},
   "outputs": [],
   "source": []
  }
 ],
 "metadata": {
  "kernelspec": {
   "display_name": "Python 3",
   "language": "python",
   "name": "python3"
  },
  "language_info": {
   "codemirror_mode": {
    "name": "ipython",
    "version": 3
   },
   "file_extension": ".py",
   "mimetype": "text/x-python",
   "name": "python",
   "nbconvert_exporter": "python",
   "pygments_lexer": "ipython3",
   "version": "3.7.4"
  }
 },
 "nbformat": 4,
 "nbformat_minor": 2
}
