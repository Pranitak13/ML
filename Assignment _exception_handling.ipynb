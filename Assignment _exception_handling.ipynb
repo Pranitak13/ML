{
 "cells": [
  {
   "cell_type": "markdown",
   "metadata": {},
   "source": [
    "# Assignment exception handling"
   ]
  },
  {
   "cell_type": "raw",
   "metadata": {},
   "source": [
    "1. Write a function to compute 5/0 and use try/except to catch the exceptions. "
   ]
  },
  {
   "cell_type": "code",
   "execution_count": 4,
   "metadata": {},
   "outputs": [
    {
     "name": "stdout",
     "output_type": "stream",
     "text": [
      "Handling run-time error: division by zero\n"
     ]
    }
   ],
   "source": [
    "\n",
    "def Compute():\n",
    "    \n",
    "    ans=(5/0)\n",
    "    \n",
    "try:\n",
    "    \n",
    "    Compute()\n",
    "        \n",
    "except ZeroDivisionError as cmp_err:\n",
    "        \n",
    "    print('Handling run-time error:',cmp_err)\n",
    "        "
   ]
  },
  {
   "cell_type": "code",
   "execution_count": null,
   "metadata": {},
   "outputs": [],
   "source": []
  },
  {
   "cell_type": "raw",
   "metadata": {},
   "source": [
    "2. Implement a Python program to generate all sentences where subject is in [\"Americans\", \"Indians\"] and verb is in [\"Play\", \"watch\"] and the object is in [\"Baseball\",\"cricket\"]. \n",
    " \n",
    "Hint: Subject,Verb and Object should be declared in the program as shown below. \n",
    " \n",
    "subjects=[\"Americans \",\"Indians\"] \n",
    " verbs=[\"play\",\"watch\"] \n",
    " objects=[\"Baseball\",\"Cricket\"] \n",
    " \n",
    "Output should come as below: \n",
    " \n",
    "Americans play Baseball. \n",
    " Americans play Cricket. \n",
    " Americans watch Baseball. \n",
    " Americans watch Cricket. \n",
    " Indians play Baseball. \n",
    " Indians play Cricket. \n",
    " Indians watch Baseball. \n",
    " Indians watch Cricket. "
   ]
  },
  {
   "cell_type": "code",
   "execution_count": 8,
   "metadata": {},
   "outputs": [
    {
     "name": "stdout",
     "output_type": "stream",
     "text": [
      "Americans  play Baseball \n",
      "Americans  play Cricket \n",
      "Americans  watch Baseball \n",
      "Americans  watch Cricket \n",
      "Indians play Baseball \n",
      "Indians play Cricket \n",
      "Indians watch Baseball \n",
      "Indians watch Cricket \n",
      "Finally, I executed!\n"
     ]
    }
   ],
   "source": [
    "\n",
    "try:\n",
    "    \n",
    "    subjects=[\"Americans \",\"Indians\"] \n",
    "\n",
    "    verbs=[\"play\",\"watch\"] \n",
    "\n",
    "    objects=[\"Baseball\",\"Cricket\"] \n",
    "\n",
    "    sent_lst = [(sub+\" \"+verb+\" \"+obj+\" \") for sub in subjects for verb in verbs for obj in objects]\n",
    "\n",
    "    for sentence in sent_lst:\n",
    "        print(sentence)\n",
    "    \n",
    "except Exception as e:\n",
    "    \n",
    "    print(\"Error ocurred during execution\",e)\n",
    "\n",
    "finally:\n",
    "    \n",
    "            print(\"Finally, I executed!\")\n",
    "         \n",
    " "
   ]
  },
  {
   "cell_type": "code",
   "execution_count": null,
   "metadata": {},
   "outputs": [],
   "source": []
  }
 ],
 "metadata": {
  "kernelspec": {
   "display_name": "Python 3",
   "language": "python",
   "name": "python3"
  },
  "language_info": {
   "codemirror_mode": {
    "name": "ipython",
    "version": 3
   },
   "file_extension": ".py",
   "mimetype": "text/x-python",
   "name": "python",
   "nbconvert_exporter": "python",
   "pygments_lexer": "ipython3",
   "version": "3.7.4"
  }
 },
 "nbformat": 4,
 "nbformat_minor": 2
}
